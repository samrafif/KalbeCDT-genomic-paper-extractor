{
 "cells": [
  {
   "cell_type": "code",
   "execution_count": 27,
   "metadata": {},
   "outputs": [],
   "source": [
    "import pandas as pd\n",
    "import json\n",
    "from matplotlib import pyplot as plt"
   ]
  },
  {
   "cell_type": "code",
   "execution_count": 28,
   "metadata": {},
   "outputs": [],
   "source": [
    "with open(\"./results/eval_result_data_llama-3.1-8b-instant_17.01.2025_21.32.json\") as f:\n",
    "    data = json.load(f)"
   ]
  },
  {
   "cell_type": "code",
   "execution_count": 29,
   "metadata": {},
   "outputs": [],
   "source": [
    "scores = []\n",
    "\n",
    "for s in data[\"llm_judge_scores\"].values():\n",
    "    scores.extend(s)\n",
    "\n",
    "for s in scores:\n",
    "    if s > 4:\n",
    "        scores.remove(s)"
   ]
  },
  {
   "cell_type": "code",
   "execution_count": 30,
   "metadata": {},
   "outputs": [
    {
     "data": {
      "text/plain": [
       "3.4166666666666665"
      ]
     },
     "execution_count": 30,
     "metadata": {},
     "output_type": "execute_result"
    }
   ],
   "source": [
    "sum(scores)/len(scores)"
   ]
  },
  {
   "cell_type": "code",
   "execution_count": 31,
   "metadata": {},
   "outputs": [
    {
     "data": {
      "image/png": "[encoded data removed]",
      "text/plain": [
       "<Figure size 640x480 with 1 Axes>"
      ]
     },
     "metadata": {},
     "output_type": "display_data"
    }
   ],
   "source": [
    "plt.hist(scores)\n",
    "plt.show()"
   ]
  },
  {
   "cell_type": "code",
   "execution_count": 32,
   "metadata": {},
   "outputs": [
    {
     "data": {
      "text/plain": [
       "[4, 3, 5]"
      ]
     },
     "execution_count": 32,
     "metadata": {},
     "output_type": "execute_result"
    }
   ],
   "source": [
    "available_cits_in_ctx = [{'3 BDKRB2 rs1799722 .pdf_0','3 BDKRB2 rs1799722 .pdf_1'},{'3 BDKRB2 rs1799722 .pdf_2','3 BDKRB2 rs1799722 .pdf_3'},{'3 BDKRB2 rs1799722 .pdf_4','3 BDKRB2 rs1799722 .pdf_5'}]\n",
    "citations = list(data['citations'].values())[:3]\n",
    "\n",
    "scores = []\n",
    "for av, cit in zip(available_cits_in_ctx, citations):\n",
    "    score = 0\n",
    "    for i in cit:\n",
    "        for j in i:\n",
    "            if j in av:\n",
    "                score += 1\n",
    "            else:\n",
    "                score -= 1\n",
    "    scores.append(score)\n",
    "\n",
    "scores"
   ]
  }
 ],
 "metadata": {
  "kernelspec": {
   "display_name": "Python 3",
   "language": "python",
   "name": "python3"
  },
  "language_info": {
   "codemirror_mode": {
    "name": "ipython",
    "version": 3
   },
   "file_extension": ".py",
   "mimetype": "text/x-python",
   "name": "python",
   "nbconvert_exporter": "python",
   "pygments_lexer": "ipython3",
   "version": "3.11.5"
  }
 },
 "nbformat": 4,
 "nbformat_minor": 2
}
