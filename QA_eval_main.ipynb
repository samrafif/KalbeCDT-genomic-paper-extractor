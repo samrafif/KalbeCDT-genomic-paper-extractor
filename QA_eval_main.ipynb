{
 "cells": [
  {
   "cell_type": "code",
   "execution_count": null,
   "metadata": {},
   "outputs": [],
   "source": [
    "import os\n",
    "import re\n",
    "import json\n",
    "import datetime\n",
    "from pathlib import Path\n",
    "\n",
    "\n",
    "import pandas as pd\n",
    "from tqdm.auto import tqdm\n",
    "\n",
    "from dotenv import load_dotenv\n",
    "from datasets import load_dataset\n",
    "from langchain_huggingface import HuggingFaceEndpoint\n",
    "from langchain.chains import LLMChain\n",
    "from langchain_core.prompts import PromptTemplate\n",
    "from langchain.docstore.document import Document\n",
    "\n",
    "from extractor import Store, Answerer\n",
    "\n",
    "tqdm.pandas()  # load tqdm's pandas support\n",
    "pd.set_option(\"display.max_colwidth\", None)\n",
    "\n",
    "load_dotenv()"
   ]
  },
  {
   "cell_type": "code",
   "execution_count": null,
   "metadata": {},
   "outputs": [],
   "source": [
    "JUDGE_MODEL = \"NousResearch/Nous-Hermes-2-Mixtral-8x7B-DPO\"\n",
    "JUDGE_MODEL_CONFIG = {\n",
    "    \"max_new_tokens\": 128,\n",
    "    \"top_k\": 10,\n",
    "    \"top_p\": 0.95,\n",
    "    \"typical_p\": 0.95,\n",
    "    \"temperature\": 0.01,\n",
    "    \"repetition_penalty\": 1.03,\n",
    "}\n",
    "\n",
    "DEFENDANT_MODEL_PROVIDER = \"hfsi\" # hfsi, groq\n",
    "DEFENDANT_MODEL = \"NousResearch/Nous-Hermes-2-Mixtral-8x7B-DPO\"\n",
    "DEFENDANT_MODEL_CONFIG = {\n",
    "    \"temperature\": 0.05,\n",
    "    \"top_p\": 0.7,\n",
    "    \"max_tokens\": 2048,\n",
    "}\n",
    "BASE_DIR = Path(\"./results\")\n",
    "\n",
    "now = datetime.now()\n",
    "date_time_str = now.strftime(\"%d.%m.%Y_%H.%M\")"
   ]
  },
  {
   "cell_type": "code",
   "execution_count": null,
   "metadata": {},
   "outputs": [],
   "source": [
    "vec_store = Store(\"main\")\n",
    "vec_store.setup()\n",
    "\n",
    "if DEFENDANT_MODEL_PROVIDER == \"hfsi\":\n",
    "    DEFENDANT_MODEL = DEFENDANT_MODEL\n",
    "\n",
    "defendant = Answerer(vec_store, model=DEFENDANT_MODEL, **DEFENDANT_MODEL_CONFIG)"
   ]
  },
  {
   "cell_type": "markdown",
   "metadata": {},
   "source": [
    "### Answer generation and Source Attribution Isolation"
   ]
  },
  {
   "cell_type": "code",
   "execution_count": 4,
   "metadata": {},
   "outputs": [],
   "source": [
    "with open(\"./eval_data_generated_15.01.25_12.00.json\") as f:\n",
    "    data = json.load(f)\n",
    "context_question_pairs = pd.DataFrame(data, columns=[\"context\",\"questions\"])"
   ]
  },
  {
   "cell_type": "code",
   "execution_count": 5,
   "metadata": {},
   "outputs": [],
   "source": [
    "def process_context_questions_pair(x):\n",
    "    questions, context = x['questions'], [Document(page_content=x['context']),]\n",
    "    \n",
    "    answers = []\n",
    "    answer_citations = []\n",
    "    for q in questions:\n",
    "        history, _, citations = defendant.answer_with_search(q, ctx_docs=context, show_cits=False)\n",
    "        answer_text = history[-1]['content']\n",
    "        answers.append(answer_text)\n",
    "        answer_citations.append(citations)\n",
    "\n",
    "    return {\"answers\": answers, \"citations\": answer_citations}"
   ]
  },
  {
   "cell_type": "code",
   "execution_count": null,
   "metadata": {},
   "outputs": [],
   "source": [
    "llm_answers = context_question_pairs.progress_apply(process_context_questions_pair, axis=1).to_list()\n",
    "llm_answers = pd.DataFrame(llm_answers)"
   ]
  },
  {
   "cell_type": "code",
   "execution_count": 16,
   "metadata": {},
   "outputs": [],
   "source": [
    "context_question_pairs_llm_answers = pd.concat([context_question_pairs, llm_answers], axis=1, ignore_index=False)\n",
    "context_question_pairs_llm_answers.to_json(BASE_DIR / f\"eval_data_questions_context_answers_{date_time_str}.json\")"
   ]
  },
  {
   "cell_type": "code",
   "execution_count": 51,
   "metadata": {},
   "outputs": [],
   "source": [
    "backup_file_datestr = \"\"\n",
    "# context_question_pairs_llm_answers = pd.read_json(BASE_DIR / f\"eval_data_questions_context_answers_{backup_file_datestr}.json\")"
   ]
  },
  {
   "cell_type": "code",
   "execution_count": 23,
   "metadata": {},
   "outputs": [],
   "source": [
    "IMPROVED_JUDGE_PROMPT = \"\"\"\n",
    "You will be given a user_question, system_answer and system_context set.\n",
    "Your task is to provide a 'total rating' scoring how well the system_answer answers the user concerns expressed in the user_question depending on the system_context.\n",
    "Give your answer on a scale of 1 to 4, where 1 means that the system_answer is not helpful at all, and 4 means that the system_answer completely and helpfully addresses the user_question.\n",
    "\n",
    "Here is the scale you should use to build your answer:\n",
    "1: The system_answer is terrible: completely irrelevant to the question asked, very partial, or is contradictory to the system_context\n",
    "2: The system_answer is mostly not helpful: misses some key aspects of the question\n",
    "3: The system_answer is mostly helpful: provides support, but still could be improved\n",
    "4: The system_answer is excellent: relevant, direct, detailed, and addresses all the concerns raised in the question\n",
    "\n",
    "Provide your feedback as follows:\n",
    "\n",
    "Feedback:::\n",
    "Evaluation: (your rationale for the rating, as a text)\n",
    "Total rating: (your rating, as a number between 1 and 4)\n",
    "\n",
    "You MUST provide values for 'Evaluation:' and 'Total rating:' in your answer.\n",
    "\n",
    "Now here are the context, question, and answer.\n",
    "\n",
    "Context: {context}\n",
    "Question: {question}\n",
    "Answer: {answer}\n",
    "\n",
    "Feedback:::\n",
    "Evaluation: \"\"\"\n",
    "prompt = PromptTemplate.from_template(IMPROVED_JUDGE_PROMPT)"
   ]
  },
  {
   "cell_type": "code",
   "execution_count": 24,
   "metadata": {},
   "outputs": [],
   "source": [
    "llm = HuggingFaceEndpoint(\n",
    "    repo_id=JUDGE_MODEL,\n",
    "    huggingfacehub_api_token=os.environ[\"HUGGINGFACEHUB_API_TOKEN\"],\n",
    "    **JUDGE_MODEL_CONFIG\n",
    ")\n",
    "llm_chain = prompt | llm"
   ]
  },
  {
   "cell_type": "code",
   "execution_count": 55,
   "metadata": {},
   "outputs": [],
   "source": [
    "def extract_judge_score(judge_responses, split_str: str = \"Total rating:\") -> int:\n",
    "    \n",
    "    judge_responses_scores = []\n",
    "    for res in judge_responses:\n",
    "        answer = res\n",
    "        try:\n",
    "            if split_str in answer:\n",
    "                rating = answer.split(split_str)[1]\n",
    "            else:\n",
    "                rating = answer\n",
    "            digit_groups = [el.strip() for el in re.findall(r\"\\d+(?:\\.\\d+)?\", rating)]\n",
    "            judge_responses_scores.append(float(digit_groups[0]))\n",
    "        except Exception as e:\n",
    "            print(e)\n",
    "            continue\n",
    "    \n",
    "    return {\"llm_judge_scores\": judge_responses_scores}"
   ]
  },
  {
   "cell_type": "code",
   "execution_count": 56,
   "metadata": {},
   "outputs": [],
   "source": [
    "def judge_context_questions_answers(x):\n",
    "    context, question_answer_pairs = x[\"context\"], zip(x[\"questions\"], x[\"answers\"])\n",
    "    cqa_processed = {\n",
    "        \"llm_judge\":[],\n",
    "        \"llm_judge_fixed\":[]\n",
    "    }\n",
    "    \n",
    "    for qa in question_answer_pairs:\n",
    "        cqa = {\n",
    "            \"context\":context,\n",
    "            \"question\":qa[0],\n",
    "            \"answer\":qa[1],\n",
    "        }\n",
    "        result = llm_chain.invoke(cqa)\n",
    "        \n",
    "        cqa_processed[\"llm_judge\"].append(result)\n",
    "        cqa_processed[\"llm_judge_fixed\"].append(result.split(\"Question\")[0])\n",
    "    \n",
    "    return cqa_processed"
   ]
  },
  {
   "cell_type": "code",
   "execution_count": null,
   "metadata": {},
   "outputs": [],
   "source": [
    "cqa_pairs_judged = pd.DataFrame(context_question_pairs_llm_answers.progress_apply(judge_context_questions_answers, axis=1).to_list())"
   ]
  },
  {
   "cell_type": "code",
   "execution_count": null,
   "metadata": {},
   "outputs": [],
   "source": [
    "cqa_pairs_judged_scores = pd.DataFrame(cqa_pairs_judged[\"llm_judge\"].apply(extract_judge_score).to_list())\n",
    "\n",
    "context_question_pairs_llm_answers_judged = pd.concat([context_question_pairs_llm_answers, cqa_pairs_judged, cqa_pairs_judged_scores], axis=1, ignore_index=False)"
   ]
  },
  {
   "cell_type": "code",
   "execution_count": 67,
   "metadata": {},
   "outputs": [],
   "source": [
    "context_question_pairs_llm_answers_judged.to_json(BASE_DIR / f\"eval_result_data_{DEFENDANT_MODEL.replace('/','=')}_{date_time_str}.json\")"
   ]
  },
  {
   "cell_type": "code",
   "execution_count": 3,
   "metadata": {},
   "outputs": [],
   "source": [
    "import pandas as pd\n",
    "pd.read_json(\"eval_result_data_NousResearch=Nous-Hermes-2-Mixtral-8x7B-DPO.16.01.25_12.18.json\").to_csv(\"eval_result_data_NousResearch=Nous-Hermes-2-Mixtral-8x7B-DPO.16.01.25_12.18.csv\")"
   ]
  },
  {
   "cell_type": "code",
   "execution_count": 1,
   "metadata": {},
   "outputs": [
    {
     "ename": "NameError",
     "evalue": "name 'context_question_pairs_llm_answers_judged' is not defined",
     "output_type": "error",
     "traceback": [
      "\u001b[1;31m---------------------------------------------------------------------------\u001b[0m",
      "\u001b[1;31mNameError\u001b[0m                                 Traceback (most recent call last)",
      "Cell \u001b[1;32mIn[1], line 1\u001b[0m\n\u001b[1;32m----> 1\u001b[0m \u001b[43mcontext_question_pairs_llm_answers_judged\u001b[49m\n",
      "\u001b[1;31mNameError\u001b[0m: name 'context_question_pairs_llm_answers_judged' is not defined"
     ]
    }
   ],
   "source": [
    "context_question_pairs_llm_answers_judged"
   ]
  }
 ],
 "metadata": {
  "kernelspec": {
   "display_name": "kalbecdt-genomic-paper-extractor-proto-tKxcan3_-py3.11",
   "language": "python",
   "name": "python3"
  },
  "language_info": {
   "codemirror_mode": {
    "name": "ipython",
    "version": 3
   },
   "file_extension": ".py",
   "mimetype": "text/x-python",
   "name": "python",
   "nbconvert_exporter": "python",
   "pygments_lexer": "ipython3",
   "version": "3.11.5"
  }
 },
 "nbformat": 4,
 "nbformat_minor": 2
}
