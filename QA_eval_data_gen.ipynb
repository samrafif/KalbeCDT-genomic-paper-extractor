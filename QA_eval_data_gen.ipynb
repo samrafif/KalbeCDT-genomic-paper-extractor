{
 "cells": [
  {
   "cell_type": "markdown",
   "metadata": {},
   "source": [
    "# QA Eval Dataset Generation\n",
    "1. Pastikan seluruh dependencies telah terinstall (`requirements.txt`, dan tambah install `ipykernel`)\n",
    "2. Pastikan folder `chroma_langchain_db` sudah bersisi Collection ChromaDB yang berisi dokumen yang ingin digunakan untuk generasi dataset evaluasi QA\n",
    "3. Pastikan .env berisi token huggingface dengan nama `HUGGINGFACEHUB_API_TOKEN` \n",
    "4. Cek ulang LLM yang dipilih dan konstana lainnya\n",
    "5. Jalankan seluruh codeblock"
   ]
  },
  {
   "cell_type": "code",
   "execution_count": 1,
   "metadata": {},
   "outputs": [
    {
     "data": {
      "text/plain": [
       "True"
      ]
     },
     "execution_count": 1,
     "metadata": {},
     "output_type": "execute_result"
    }
   ],
   "source": [
    "# IMPORTS\n",
    "import os\n",
    "import re\n",
    "import datetime\n",
    "from pathlib import Path\n",
    "\n",
    "import pandas as pd\n",
    "from tqdm.auto import tqdm\n",
    "\n",
    "from dotenv import load_dotenv\n",
    "from langchain_huggingface import HuggingFaceEndpoint\n",
    "from langchain.chains import LLMChain\n",
    "from langchain_core.prompts import PromptTemplate\n",
    "\n",
    "from extractor import Store\n",
    "\n",
    "tqdm.pandas()  # load tqdm's pandas support\n",
    "pd.set_option(\"display.max_colwidth\", None)\n",
    "\n",
    "load_dotenv()"
   ]
  },
  {
   "cell_type": "code",
   "execution_count": null,
   "metadata": {},
   "outputs": [],
   "source": [
    "# CONSTANTS\n",
    "QUESTION_GEN_LLM = \"NousResearch/Nous-Hermes-2-Mixtral-8x7B-DPO\" # AGAR IDEAL SAMAKAN DENGAN JUDGE MODEL\n",
    "QUESTION_GEN_LLM_CONFIG = {\n",
    "    \"max_new_tokens\": 256,\n",
    "    \"top_k\": 10,\n",
    "    \"top_p\": 0.95,\n",
    "    \"typical_p\": 0.95,\n",
    "    \"temperature\": 0.01,\n",
    "    \"repetition_penalty\": 1.03,\n",
    "}\n",
    "\n",
    "BASE_DIR = Path(\"./results\")\n",
    "TUP_PAGE_COUNT = 2 # BERAPA PAGE DIGUNAKAN UNTUK CONTEXT DI DATASET UNTUK QUESTION\n",
    "QUESTION_PER_CTX_COUNT = 5 # BERAPA QUESTION DI GENERATE UNTUK SETIAP CONTEXT\n",
    "\n",
    "\n",
    "now = datetime.now()\n",
    "date_time_str = now.strftime(\"%d.%m.%Y_%H.%M\")"
   ]
  },
  {
   "cell_type": "code",
   "execution_count": 2,
   "metadata": {},
   "outputs": [],
   "source": [
    "vec_store = Store(\"main\",presist_dir=\"./chroma_langchain_db\")\n",
    "vec_store.setup()"
   ]
  },
  {
   "cell_type": "markdown",
   "metadata": {},
   "source": [
    "### Page context tuple generation from doc"
   ]
  },
  {
   "cell_type": "code",
   "execution_count": 3,
   "metadata": {},
   "outputs": [],
   "source": [
    "def divide_chunks(l, n):\n",
    "    \n",
    "    # looping till length l\n",
    "    for i in range(0, len(l), n): \n",
    "        yield l[i:i + n]"
   ]
  },
  {
   "cell_type": "code",
   "execution_count": 4,
   "metadata": {},
   "outputs": [],
   "source": [
    "context_doc_tups = []\n",
    "\n",
    "all_docs_pages = vec_store.store.get()\n",
    "all_docs_pages_ids = [tuple(doc.split(\"_\")) for doc in all_docs_pages[\"ids\"]]\n",
    "doc_names = {doc.split(\"_\")[0] for doc in all_docs_pages[\"ids\"]}\n",
    "\n",
    "# NESTING HELL!\n",
    "all_docs = {}\n",
    "for doc_name in doc_names:\n",
    "    all_docs[doc_name] = []\n",
    "    for doc in all_docs_pages_ids:\n",
    "        if doc[0] == doc_name:\n",
    "            all_docs[doc_name].append(\"_\".join(doc))\n",
    "\n",
    "for k, v in all_docs.items():\n",
    "    all_docs[k] = list(divide_chunks(v, TUP_PAGE_COUNT))"
   ]
  },
  {
   "cell_type": "code",
   "execution_count": 5,
   "metadata": {},
   "outputs": [
    {
     "data": {
      "text/plain": [
       "('<SENT 01_01>\\nAssociations of polymorphisms of eight muscle- or metabolism-related genes\\nwith performance in Mount Olympus marathon runners\\nGeorgios I. Tsianos,1 Evangelos Evangelou,1 Arnoud Boot,2 M. Carola Zillikens,2 Joyce B. J. van Meurs,2\\nAndre G. Uitterlinden,2,3 and John P. A. Ioannidis1,4\\n1Department of Hygiene and Epidemiology, University of Ioannina School of Medicine, Ioannina, Greece; Departments\\nof 2Internal Medicine and3Epidemiology, Erasmus Medical Center, Rotterdam, The Netherlands; and4Center for Genetic\\nEpidemiology and Modeling, Institute for Clinical Research and Health Policy Studies, Tufts Medical Center, Tufts University\\nSchool of Medicine, Boston, Massachusetts\\nTsianos GI, Evangelou E, Boot A, Zillikens MC, van Meurs JB,\\nUitterlinden AG, Ioannidis JP.Associations of polymorphisms of eight\\nmuscle- or metabolism-related genes with performance in Mount Olympus marathon runners.J Appl Physiol108: 567–574,2010.\\n</SENT 01_01>\\n<SENT 01_02>\\nFirst published\\nDecember 31, 2009; doi:10.1152/japplphysiol.00780.2009.—Athletic endurance performance is probably partly under genetic control, but\\ngenetic association studies have yielded inconclusive results.The\\nobjective of the present study was to evaluate the association of\\npolymorphisms in eight muscle- or metabolism-related genes with\\nendurance performance in participants of the Olympus Marathon\\nrunning race.We recruited 438 athletes who participated in the 2007\\nand 2008 annual running events of the Olympus Marathon: a 43.8-km\\nrace with an ascent from sea level to 2,690-m altitude and then a\\ndescent to 300 m. Phenotypes of interest were thecompetitive event\\ntime at the specific Olympus Marathon where the athlete was enrolled,\\nthe fastest reported timing ever achieved in an Olympus Marathon, and\\nhow many kilometers per week the athlete ran during the previous year.\\n</SENT 01_02>\\n<SENT 01_03>\\nEleven polymorphisms in/H92513-actinin ( ACTN3), AMP deaminase-1\\n(AMPD1), bradykinin B 2 receptor (BDKRB2), /H92522-adrenergic receptor\\n(ADRB2), peroxisome proliferator-activated receptor (PPAR)-/H9253coactivator-1/H9251(PPARGC1A), PPAR-/H9251(PPARA), PPAR-/H9254(PPARD), and apoliprotein E (APOE) were evaluated.Hardy-Weinberg equilibrium testing\\non the overall cohort of male athletes showed a significant deviation for\\nBDKRB2rs1799722 (P /H110050.018;P /H110050.006 when limited to 316 habitual\\nmale runners) with an excess of the TT genotype.\\n</SENT 01_03>\\n<SENT 01_04>\\nAcross all athletes, no\\nassociations showed nominal statistical significance for any of the\\nthree phenotypes, and the same was true when analyses were limited\\nto men (n /H11005417).When limited to 316 male athletes who identified\\nrunning as their preferred sport, ADRB2 rs1042713 had nominally\\nsignificant associations with faster times for the minor (A) allele for\\nthe fastest time ever (P /H110050.01).The direction of effect was identical\\nas previously postulated only for BDKRB2 rs1799722 and ADRB2\\nrs1042713, indicating consistency.BDKRB2 rs1799722 and ADRB2\\nrs1042713 have some support for being implicated in endurance\\nperformance among habitual runners and require further investigation.\\n</SENT 01_04>\\n<SENT 01_05>\\ngenetics; endurance\\nPHYSICAL FITNESS is a very complex phenotype influenced by\\nnumerous genetic and environmental factors contributing to the\\nobserved interindividual variation not only in the general\\npopulation but also in trained athletes (24).Numerous studies\\nhave been performed in the last decade to try to establish\\nwhether specific genes with postulated functional roles in\\nhuman physiology influence athletic performance and endurance, and a growing number of candidate gene associations\\nhave been proposed (5, 27).\\n</SENT 01_05>\\n<SENT 01_06>\\nStudies have varied in sample size\\nand type of population, and several proposed associations have\\nnot been consistently replicated in independent investigations\\nby different teams of investigators.Multiple genetic loci are likely to underlie the heritability of\\nthe complex phenotype of athletic performance.Some aspects\\nof this phenotype have high estimated heritability, for example,\\nthe heritability of maximal O2 uptake (V˙O2max)i s /H1101150% in\\nboth the sedentary state and after training (3, 4).Even if\\nheritability is less for other aspects of athletic performance,\\neach genetic variant is likely to explain only a small fraction of\\nthe genetic predisposition.\\n</SENT 01_06>\\n<SENT 01_07>\\nRecently, Williams and Folland (44)\\ncalculated the probability that exists for an individual to be in\\npossession of any of the most optimal of the 23 selected\\npolymorphisms related to athletic performance.Studies investigating the collective influence of a number of genetic polymorphisms could possibly help unravel and thus possibly better\\nexplain the inherent individual variations in athletic performance.In the present study, we studied participants in the\\nOlympus Marathon, an athletic event that requires considerable\\nendurance and for which there are large differences in performance among the participants.The optimal physiological phenotype of athletes competing in long-duration events probably\\nentails an inherent genetic makeup conferring cardiovascular,\\npulmonary, and skeletal competence to perform during such\\nevents and efficient metabolism of available substrates to\\nsustain the performance throughout the event’s duration.\\n</SENT 01_07>\\n<SENT 01_08>\\nWe evaluated single-nucleotide polymorphisms (SNPs) in\\neight genes that have known functional roles, and we based our\\nselection on previous gene association studies investigating\\naspects of athletic endurance.In particular, the selected genes\\nin our study have been previously associated with appropriate\\nsubstrate metabolism as a source of energy during exercise, in the\\ncardiovascular and pulmonary responses to exercise that would\\nallow for a much efficient O2 uptake and transfer to the muscles\\nfor utilization, and/or in muscle contractility suitable for the\\npurposes of endurance performance.\\n</SENT 01_08>\\n<SENT 01_09>\\nMoreover, the selected\\npolymorphisms had been evaluated in the past in one or more\\nstudies, where at least one of the studies had reported significant associations with endurance performance (5, 27).METHODS\\nCohort participants.We enrolled athletes participated in the annual\\nOlympus Marathon event set on Mount Olympus in Greece.We only\\nenrolled athletes of self-verified Greek ancestry to avoid confounding\\ndata from population stratification.Athletes were approached at the\\ncompetition site during the 2 days before the race by a member of\\nthe research team.\\n</SENT 01_09>\\n<SENT 01_10>\\nThey were informed about the aim and purpose of\\nthe study and were asked whether or not they would be interested in\\nparticipating in the study.Written informed consent was obtained\\nAddress for reprint requests and other correspondence: J. P. A. Ioannidis,\\nDept.of Hygiene and Epidemiology, Univ.of Ioannina School of Medicine,\\nIoannina 45 110, Greece (e-mail: jioannid@cc.uoi.gr).J Appl Physiol108: 567–574, 2010.First published December 31, 2009; doi:10.1152/japplphysiol.00780.2009.8750-7587/10 $8.00 Copyright © 2010 the American Physiological Societyhttp://www.jap.org 567\\nDownloaded from journals.physiology.org/journal/jappl (110.138.091.074) on January 26, 2023.\\n</SENT 01_10>\\n',\n",
       " '<SENT 02_01>\\nfrom all volunteers.Athletes filled out a short questionnaire on\\npersonal identifiers; age, sex, and current height and weight; whether\\nrunning was their preferred sport (and, if not, which sport was their\\npreferred one); how many kilometers they had run per week in the last\\nweek, month, and year before the competition; the highest altitude\\nthey had ever reached; and the longest distance they had ever ran\\nwithout stopping.A saliva sample was finally collected for DNA\\nanalysis.The data collection for the study occurred at the 2007 and\\n2008 annual events.\\n</SENT 02_01>\\n<SENT 02_02>\\nThe study protocol was reviewed by the University Hospital of Ioannina Scientific Committee, and ethical approval\\nwas granted.Race course description.The race course length is 43.8 km.It\\nentails a gradual ascent from the start line located a t 3 m above sea\\nlevel, reaches a maximum altitude of 2,690 m, and then has a downhill\\nroute to the finish line at an altitude of 300 m. The race provides an\\nexcellent event for assessing variability in endurance performance.\\n</SENT 02_02>\\n<SENT 02_03>\\nThe winner usually completes the race in/H110115 h, but times of people\\nthat have completed the race vary substantially and can exceed 14 h.\\nGenotyping.Saliva samples (2 ml) were collected from all volunteers using the Oragene DNA Self Collection Kits (DNA Genotek)\\naccording to the manufacturer’s instructions; the Oragene collection\\ntube also contained 2 ml of stabilizing agent.All samples were\\ncollected at the competition site in Greece and were then sent for\\nanalysis at Erasmus University Rotterdam (Rotterdam, The Netherlands).Samples were processed using a PUREGENE DNA Purification kit (DNA Genotek’s Oragene DNA Purification protocol, DNA\\nGenotec, Ottawa, Ontario, Canada).\\n</SENT 02_03>\\n<SENT 02_04>\\nFor DNA isolation, 3 ml of the\\nsaliva mixture were used, and 120 ml of Oragene purifier were added.After a 10-min incubation on ice, the vial was spun down, and the\\npellet was discarded.Subsequently, an equal volume of ethanol was\\nadded to precipitate the DNA.After a 10-min incubation at room\\ntemperature, the vial was spun down, the supernatant was discarded,\\nand the pellet was air dried.The DNA pellet was then dissolved in 300\\nml MilliQ water.Polymorphisms under study.The selected genes, their respective\\nSNP identification numbers, and the implicated function of these\\ngenes are shown in Table 1.For all genes under study, one variant has\\nbeen investigated for associations with endurance performance and\\nrelated phenotypes except for the peroxisome proliferator-activated\\nreceptor (PPAR)-/H9254gene ( PPARD), where three variants have been\\nproposed to affect endurance.\\n</SENT 02_04>\\n<SENT 02_05>\\nFor all SNPs, Taqman assays were\\ngenerated and applied according to the manufacturers’s specifications.Results were analyzed with the ABI Taqman 7900HT using sequence\\ndetection system 2.22 software (Applied Biosystems, Foster City,\\nCA).To confirm the accuracy of the genotyping results, 5% of the\\nrandomly selected samples were regenotyped with the same method.No inconsistencies were observed.All primers and probes used in the\\npresent study are available on request.Phenotypes.We defined a priori the following phenotypes: 1) the\\nevent completion time at the specific Olympus Marathon where the\\nathlete was enrolled in the study,2) the fastest reported event\\ncompletion time ever achieved in the Olympus Marathon race, and\\n3) how many kilometers per week the athlete ran during the 12 mo\\nbefore enrollment in the study.For athletes who ran both years and were included in our sample\\nsize, we used for the time to finish the time in the year during which\\nthey were first enrolled.\\n</SENT 02_05>\\n<SENT 02_06>\\nHowever, if they only completed one of the\\ntwo races, then we used the time when they completed the race.All\\nathletes that exceeded the time limit for finishing the race set by the\\norganizing committee (12 h in 2007 and 10 h in 2008) were personally\\ncontacted to provide a self-reported time finish, since the official time\\nwas not available.Statistical analyses.Genotypes for each tested polymorphism were\\ntested for compliance with the Hardy-Weinberg equilibrium (HWE)\\nlaw using an exact test.Deviations from HWE may be due to different\\nreasons (31), but, in this design, they may also be used as a crude test\\nof association (36), since the analyzed cohort is a selected population\\nTable 1.\\n</SENT 02_06>\\n<SENT 02_07>\\nPolymorphisms under study\\nGene Name Major Role rs Number(s) Genotypes, number (%)\\nACTN3 /H92513-Actinin Skeletal muscle component rs1815739 CT: 214 (48.9) CC: 132 (30.1) TT: 85 (19.4) Undetermined: 7 (1.6)\\nAMPD1 AMP deaminase-1 Skeletal muscle metabolism rs17602729 GG: 336 (76.7) AG: 93 (21.2) AA: 4 (0.9) Undetermined: 5 (1.1)\\nBDKRB2 Bradykinin B2 receptor Bradykinin receptor rs1799722 CC: 169 (38.6) CT: 183 (41.8) TT: 80 (18.3) Undetermined: 6 (1.4)\\nADRB2 /H92522-Adrenergic receptor Adrenergic receptor rs1042713 GG: 165 (37.7) GA: 207 (47.3) AA: 60 (13.7) Undetermined: 6 (1.4)\\nPPARGC1A PPAR coactivator-1/H9251Regulation of energy\\nmetabolism genes\\nrs8192678 AA: 297 (67.8) GA: 119 (27.2) GG: 17 (3.9) Undetermined: 5 (1.1)\\nPPARA PPAR-/H9251/H9252 -Oxidation of fatty acids rs4253778 GG: 284 (64.8) GC: 135 (30.8) CC: 15 (3.4) Undetermined: 4 (0.9)\\nPPARD PPAR-/H9254/H9252 -Oxidation of fatty acids rs6902123 TT: 351 (80.1) TC: 78 (17.8) CC: 2 (0.5) Undetermined: 7 (1.6)\\nrs1053049 TT: 221 (50.5) CT: 188 (42.9) CC: 23 (5.3) Undetermined: 6 (1.4)rs2267668 AA: 297 (67.8) GA: 119 (27.2) GG: 17 (3.9) Undetermined: 5 (1.4)\\nAPOE Apolipoprotein E Binding and catabolism of\\nlipoproteins\\nrs7412 and rs429358 other/other: 366 (83.5) ε4/other: 59 (13.5) ε4/ ε4: 4 (0.9) Undetermined: 9 (2.1)\\nPPAR, peroxisome proliferator-activated receptor.For APOE, the two polymorphisms are linked and define six possible genotypes ( ε2/ε2, ε2/ε3, ε3/ε3, ε3/ε4, ε4/ε4, and ε2/ε4).568 POLYMORPHISMS IN OLYMPUS MARATHON RUNNERS\\nJ Appl Physiol\\x7f VOL 108 \\x7f MARCH 2010 \\x7f www.jap.org\\nDownloaded from journals.physiology.org/journal/jappl (110.138.091.074) on January 26, 2023.\\n</SENT 02_07>\\n')"
      ]
     },
     "execution_count": 5,
     "metadata": {},
     "output_type": "execute_result"
    }
   ],
   "source": [
    "all_docs_texts = {}\n",
    "for k, chunks in all_docs.items():\n",
    "    chunks_docs = []\n",
    "    for chunk in chunks:\n",
    "        # NOTE: Maybe add zip with page_doc names?\n",
    "        chunk_doc = tuple(vec_store.store.get(chunk)['documents'])\n",
    "        chunks_docs.append(chunk_doc)\n",
    "    all_docs_texts[k] = chunks_docs\n",
    "\n",
    "for context_tups in all_docs_texts.values():\n",
    "    context_doc_tups.extend(context_tups)\n",
    "\n",
    "context_doc_tups[0]"
   ]
  },
  {
   "cell_type": "markdown",
   "metadata": {},
   "source": [
    "### Question Generation"
   ]
  },
  {
   "cell_type": "code",
   "execution_count": 6,
   "metadata": {},
   "outputs": [],
   "source": [
    "QUESTION_GEN_PROMPT = \"\"\"\n",
    "You are a question-generation assistant. Your sole task is to generate thoughtful, clarifying, and exploratory questions based on the provided context.  \n",
    "\n",
    "Context: {context}\n",
    "\n",
    "Provide the questions as follows:\n",
    "Questions:\n",
    "1.\n",
    "2.\n",
    "3.\n",
    "...\n",
    "\n",
    "Generate only questions that aim to explore or refine the given context further. Avoid any assumptions, interpretations, or answers—just ask questions. Seperate different question with a newline\n",
    "\n",
    "Questions:\n",
    "\"\"\"\n",
    "prompt = PromptTemplate.from_template(QUESTION_GEN_PROMPT)"
   ]
  },
  {
   "cell_type": "code",
   "execution_count": 7,
   "metadata": {},
   "outputs": [],
   "source": [
    "llm = HuggingFaceEndpoint(\n",
    "    repo_id=QUESTION_GEN_LLM,\n",
    "    huggingfacehub_api_token=os.environ[\"HUGGINGFACEHUB_API_TOKEN\"],\n",
    "    **QUESTION_GEN_LLM_CONFIG\n",
    ")\n",
    "llm_chain = prompt | llm"
   ]
  },
  {
   "cell_type": "code",
   "execution_count": 13,
   "metadata": {},
   "outputs": [
    {
     "data": {
      "application/vnd.jupyter.widget-view+json": {
       "model_id": "4e5f9a6d19874703b3afb118cddb8532",
       "version_major": 2,
       "version_minor": 0
      },
      "text/plain": [
       "  0%|          | 0/15 [00:00<?, ?it/s]"
      ]
     },
     "metadata": {},
     "output_type": "display_data"
    }
   ],
   "source": [
    "question_context_pair = []\n",
    "for context in tqdm(context_doc_tups):\n",
    "    ctx_text = \"\\n\\n\".join(context)\n",
    "    questions = llm_chain.invoke({\"context\": ctx_text}).split(\"\\n\")[:QUESTION_PER_CTX_COUNT]\n",
    "    question_context_pair.append((ctx_text, questions))"
   ]
  },
  {
   "cell_type": "markdown",
   "metadata": {},
   "source": [
    "### Save output"
   ]
  },
  {
   "cell_type": "code",
   "execution_count": 15,
   "metadata": {},
   "outputs": [],
   "source": [
    "import json\n",
    "\n",
    "with open(BASE_DIR / f\"eval_data_generated_{date_time_str}.json\", \"w\") as f:\n",
    "    json.dump(question_context_pair, f)"
   ]
  },
  {
   "cell_type": "code",
   "execution_count": null,
   "metadata": {},
   "outputs": [],
   "source": [
    "print(\"OUT FILE\",BASE_DIR / f\"eval_data_generated_{date_time_str}.json\")"
   ]
  }
 ],
 "metadata": {
  "kernelspec": {
   "display_name": "kalbecdt-genomic-paper-extractor-proto-tKxcan3_-py3.11",
   "language": "python",
   "name": "python3"
  },
  "language_info": {
   "codemirror_mode": {
    "name": "ipython",
    "version": 3
   },
   "file_extension": ".py",
   "mimetype": "text/x-python",
   "name": "python",
   "nbconvert_exporter": "python",
   "pygments_lexer": "ipython3",
   "version": "3.11.5"
  }
 },
 "nbformat": 4,
 "nbformat_minor": 2
}
